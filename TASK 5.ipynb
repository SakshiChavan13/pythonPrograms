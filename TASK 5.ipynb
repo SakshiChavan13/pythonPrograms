{
 "cells": [
  {
   "cell_type": "markdown",
   "id": "90cfdda7",
   "metadata": {},
   "source": [
    "## TASK 5\n",
    "\n",
    "## REGISTRATION ID - SIRSS2111\n",
    "## NAME- SAKSHI SUDHAKAR CHAVAN"
   ]
  },
  {
   "cell_type": "markdown",
   "id": "6fec08ff",
   "metadata": {},
   "source": [
    "Q1. Given a list of integers, write a function to return the sum of all prime numbers in that list."
   ]
  },
  {
   "cell_type": "code",
   "execution_count": 1,
   "id": "2c24d5f4",
   "metadata": {},
   "outputs": [
    {
     "name": "stdout",
     "output_type": "stream",
     "text": [
      "Sum of all prime numbers: 179\n"
     ]
    }
   ],
   "source": [
    "def findPrime(list1):\n",
    "    s = 0\n",
    "    for num in list1:\n",
    "        i = 2\n",
    "        p = 1\n",
    "        while i <= num / 2:\n",
    "            if num % i == 0:\n",
    "                p = 0\n",
    "                break\n",
    "            i = i + 1\n",
    "        if p == 1:\n",
    "            s = s + num\n",
    "    return s\n",
    "\n",
    "\n",
    "list1 = [23,67,44,89]\n",
    "s = findPrime(list1)\n",
    "print(\"Sum of all prime numbers:\", s)"
   ]
  },
  {
   "cell_type": "markdown",
   "id": "fa44ea39",
   "metadata": {},
   "source": [
    "### Q2. Given a list of integers, write a function to check whether the list is strictly increasing or not."
   ]
  },
  {
   "cell_type": "code",
   "execution_count": 6,
   "id": "7a9dc452",
   "metadata": {},
   "outputs": [
    {
     "name": "stdout",
     "output_type": "stream",
     "text": [
      "Original list : [1, 4, 5, 7, 8, 10]\n",
      "Is list strictly increasing ? : True\n"
     ]
    }
   ],
   "source": [
    "test_list = [1, 4, 5, 7, 8, 10]\n",
    "  \n",
    "# printing original lists\n",
    "print (\"Original list : \" + str(test_list))\n",
    "  \n",
    "# using reduce() + lambda\n",
    "# to check for strictly increasing list\n",
    "res = bool(lambda test_list: reduce(lambda i, j: j if \n",
    "                 i < j else 9999, test_list) != 9999)\n",
    "  \n",
    "# printing result\n",
    "print (\"Is list strictly increasing ? : \" + str(res))"
   ]
  },
  {
   "cell_type": "markdown",
   "id": "a1861612",
   "metadata": {},
   "source": [
    "### Q3. Write a function to check whether a given list is expanding or not (the difference between adjacent elements should keep on increasing)."
   ]
  },
  {
   "cell_type": "code",
   "execution_count": 8,
   "id": "f72824f0",
   "metadata": {},
   "outputs": [
    {
     "data": {
      "text/plain": [
       "False"
      ]
     },
     "execution_count": 8,
     "metadata": {},
     "output_type": "execute_result"
    }
   ],
   "source": [
    "def expand(m):\n",
    "    a = abs(m[1] - m[0])\n",
    "    b = abs(m[2] - m[1])\n",
    "    \n",
    "    if a >= b:\n",
    "        return False\n",
    "    \n",
    "    else:\n",
    "        for i in range(3,len(m)):\n",
    "            c = abs(m[i] - m[i-1])\n",
    "            if c <= b:\n",
    "                return False\n",
    "            b = c\n",
    "        else:\n",
    "            return True\n",
    "expand([33,46,12,80,43])"
   ]
  },
  {
   "cell_type": "markdown",
   "id": "13982081",
   "metadata": {},
   "source": [
    "### Q4. Write a function to calculate all permutations of a given string. (Without using itertools)"
   ]
  },
  {
   "cell_type": "code",
   "execution_count": 10,
   "id": "4243d7aa",
   "metadata": {},
   "outputs": [
    {
     "name": "stdout",
     "output_type": "stream",
     "text": [
      "Enter the string : data\n",
      "All possible strings are : \n",
      "data  daat  dtaa  dtaa  daat  data  adta  adat  atda  atad  aadt  aatd  tdaa  tdaa  tada  taad  tada  taad  adat  adta  aadt  aatd  atda  atad  "
     ]
    }
   ],
   "source": [
    "def permutation(n, ans):\n",
    "    if (len(n) == 0):\n",
    "        print(ans, end = \"  \")\n",
    "        return\n",
    "     \n",
    "    for i in range(len(n)):\n",
    "        ch = n[i]\n",
    "        left = n[0:i]\n",
    "        right = n[i + 1:]\n",
    "        rest = left + right\n",
    "        permutation(rest, ans + ch)\n",
    "ans = \"\"\n",
    "n = input(\"Enter the string : \")\n",
    "print(\"All possible strings are : \")\n",
    "permutation(n, ans)"
   ]
  },
  {
   "cell_type": "code",
   "execution_count": null,
   "id": "222b102e",
   "metadata": {},
   "outputs": [],
   "source": []
  }
 ],
 "metadata": {
  "kernelspec": {
   "display_name": "Python 3",
   "language": "python",
   "name": "python3"
  },
  "language_info": {
   "codemirror_mode": {
    "name": "ipython",
    "version": 3
   },
   "file_extension": ".py",
   "mimetype": "text/x-python",
   "name": "python",
   "nbconvert_exporter": "python",
   "pygments_lexer": "ipython3",
   "version": "3.8.8"
  }
 },
 "nbformat": 4,
 "nbformat_minor": 5
}
